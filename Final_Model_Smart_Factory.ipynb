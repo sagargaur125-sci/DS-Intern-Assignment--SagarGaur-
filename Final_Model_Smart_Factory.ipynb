{
 "cells": [
  {
   "cell_type": "markdown",
   "id": "31b90a92",
   "metadata": {},
   "source": [
    "# Final Model: Smart Factory Energy Prediction"
   ]
  },
  {
   "cell_type": "markdown",
   "id": "00e49f14",
   "metadata": {},
   "source": [
    "This notebook contains the cleaned and optimized final version of the model training pipeline using Random Forest Regressor. It includes only the code required to:\n",
    "- Load and preprocess the data\n",
    "- Extract relevant features\n",
    "- Train and evaluate the model"
   ]
  },
  {
   "cell_type": "code",
   "execution_count": 1,
   "id": "2c9cbc63",
   "metadata": {},
   "outputs": [],
   "source": [
    "import pandas as pd\n",
    "import numpy as np\n",
    "from sklearn.model_selection import train_test_split\n",
    "from sklearn.ensemble import RandomForestRegressor\n",
    "from sklearn.metrics import mean_squared_error, mean_absolute_error, r2_score\n"
   ]
  },
  {
   "cell_type": "code",
   "execution_count": 14,
   "id": "3a958dce",
   "metadata": {},
   "outputs": [
    {
     "name": "stdout",
     "output_type": "stream",
     "text": [
      "Before: (16857, 34)\n",
      "After : (16539, 34)\n"
     ]
    },
    {
     "name": "stderr",
     "output_type": "stream",
     "text": [
      "C:\\Users\\Sagar\\AppData\\Local\\Temp\\ipykernel_15524\\3028192802.py:7: FutureWarning: DataFrame.fillna with 'method' is deprecated and will raise in a future version. Use obj.ffill() or obj.bfill() instead.\n",
      "  df_cleaned[cols_to_convert] = df_cleaned[cols_to_convert].fillna(method='ffill').fillna(method='bfill')\n",
      "C:\\Users\\Sagar\\AppData\\Local\\Temp\\ipykernel_15524\\3028192802.py:10: FutureWarning: DataFrame.fillna with 'method' is deprecated and will raise in a future version. Use obj.ffill() or obj.bfill() instead.\n",
      "  df_cleaned[cols_to_convert] = df_cleaned[cols_to_convert].fillna(method='ffill').fillna(method='bfill')\n"
     ]
    }
   ],
   "source": [
    "# Load data\n",
    "df = pd.read_csv(r\"C:\\Users\\Sagar\\Documents\\DS-Intern-Assignment--SagarGaur-\\data\\data.csv\")\n",
    "df['timestamp'] = pd.to_datetime(df['timestamp'])\n",
    "df_cleaned=df.copy()\n",
    "cols_to_convert = df.columns.drop(['timestamp','random_variable1','random_variable2'])\n",
    "df_cleaned[cols_to_convert] = df_cleaned[cols_to_convert].apply(pd.to_numeric, errors='coerce')\n",
    "df_cleaned[cols_to_convert] = df_cleaned[cols_to_convert].fillna(method='ffill').fillna(method='bfill')\n",
    "col_temp=df_cleaned.columns.drop('timestamp')\n",
    "df_cleaned[col_temp] = df_cleaned[col_temp].where(df_cleaned[col_temp] >= 0, np.nan)\n",
    "df_cleaned[cols_to_convert] = df_cleaned[cols_to_convert].fillna(method='ffill').fillna(method='bfill')\n",
    "df_cleaned['hour'] = df_cleaned['timestamp'].dt.hour\n",
    "df_cleaned['day_of_week'] = df_cleaned['timestamp'].dt.dayofweek\n",
    "df_cleaned['month'] = df_cleaned['timestamp'].dt.month\n",
    "df_cleaned['is_weekend'] = df_cleaned['day_of_week'].isin([5, 6]).astype(int)\n",
    "df_cleaned['hour_sin'] = np.sin(2 * np.pi * df_cleaned['hour'] / 24)\n",
    "df_cleaned['hour_cos'] = np.cos(2 * np.pi * df_cleaned['hour'] / 24)\n",
    "df_cleaned = df_cleaned.drop(columns=['timestamp'])\n",
    "# Define function to remove outliers using IQR\n",
    "def remove_outliers_iqr(df, columns, factor=10):\n",
    "    df_clean = df.copy()\n",
    "    for col in columns:\n",
    "        if df_clean[col].dtype in ['float64', 'int64']:\n",
    "            Q1 = df_clean[col].quantile(0.25)\n",
    "            Q3 = df_clean[col].quantile(0.75)\n",
    "            IQR = Q3 - Q1\n",
    "            lower_bound = Q1 - factor * IQR\n",
    "            upper_bound = Q3 + factor * IQR\n",
    "            df_clean = df_clean[(df_clean[col] >= lower_bound) & (df_clean[col] <= upper_bound)]\n",
    "    return df_clean\n",
    "\n",
    "# Example: choose important columns to check (you can expand this list)\n",
    "columns_to_check = [\n",
    "    'equipment_energy_consumption',\n",
    "    'lighting_energy',\n",
    "    'zone1_temperature',\n",
    "    'zone2_temperature',\n",
    "    'outdoor_temperature'\n",
    "]\n",
    "\n",
    "# Apply outlier removal\n",
    "df_no_outliers = remove_outliers_iqr(df_cleaned, columns_to_check)\n",
    "\n",
    "# Print shape before and after\n",
    "print(\"Before:\", df_cleaned.shape)\n",
    "print(\"After :\", df_no_outliers.shape)\n"
   ]
  },
  {
   "cell_type": "code",
   "execution_count": 15,
   "id": "dd95c90f",
   "metadata": {},
   "outputs": [
    {
     "data": {
      "text/plain": [
       "Index(['equipment_energy_consumption', 'lighting_energy', 'zone1_temperature',\n",
       "       'zone1_humidity', 'zone2_temperature', 'zone2_humidity',\n",
       "       'zone3_temperature', 'zone3_humidity', 'zone4_temperature',\n",
       "       'zone4_humidity', 'zone5_temperature', 'zone5_humidity',\n",
       "       'zone6_temperature', 'zone6_humidity', 'zone7_temperature',\n",
       "       'zone7_humidity', 'zone8_temperature', 'zone8_humidity',\n",
       "       'zone9_temperature', 'zone9_humidity', 'outdoor_temperature',\n",
       "       'atmospheric_pressure', 'outdoor_humidity', 'wind_speed',\n",
       "       'visibility_index', 'dew_point', 'random_variable1', 'random_variable2',\n",
       "       'hour', 'day_of_week', 'month', 'is_weekend', 'hour_sin', 'hour_cos'],\n",
       "      dtype='object')"
      ]
     },
     "execution_count": 15,
     "metadata": {},
     "output_type": "execute_result"
    }
   ],
   "source": [
    "df_no_outliers.columns"
   ]
  },
  {
   "cell_type": "code",
   "execution_count": 16,
   "id": "90055c2c",
   "metadata": {},
   "outputs": [
    {
     "name": "stdout",
     "output_type": "stream",
     "text": [
      "RMSE: 59.66\n",
      "MAE: 30.30\n",
      "R² Score: 0.56\n"
     ]
    }
   ],
   "source": [
    "# Define features and target\n",
    "X = df_no_outliers.drop(columns=['equipment_energy_consumption','hour','random_variable2','random_variable1','month','is_weekend'])\n",
    "y = df_no_outliers['equipment_energy_consumption']\n",
    "\n",
    "# Split into train and test\n",
    "X_train, X_test, y_train, y_test = train_test_split(\n",
    "    X, y, test_size=0.2, random_state=42\n",
    ")\n",
    "\n",
    "# Train Random Forest model\n",
    "rf = RandomForestRegressor(n_estimators=100, random_state=42)\n",
    "rf.fit(X_train, y_train)\n",
    "\n",
    "# Predictions and evaluation\n",
    "y_pred = rf.predict(X_test)\n",
    "rmse = np.sqrt(mean_squared_error(y_test, y_pred))\n",
    "mae = mean_absolute_error(y_test, y_pred)\n",
    "r2 = r2_score(y_test, y_pred)\n",
    "\n",
    "print(f\"RMSE: {rmse:.2f}\")\n",
    "print(f\"MAE: {mae:.2f}\")\n",
    "print(f\"R² Score: {r2:.2f}\")"
   ]
  }
 ],
 "metadata": {
  "kernelspec": {
   "display_name": "MachineLearning",
   "language": "python",
   "name": "python3"
  },
  "language_info": {
   "codemirror_mode": {
    "name": "ipython",
    "version": 3
   },
   "file_extension": ".py",
   "mimetype": "text/x-python",
   "name": "python",
   "nbconvert_exporter": "python",
   "pygments_lexer": "ipython3",
   "version": "3.12.4"
  }
 },
 "nbformat": 4,
 "nbformat_minor": 5
}
